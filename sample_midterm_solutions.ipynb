{
 "cells": [
  {
   "cell_type": "markdown",
   "metadata": {
    "ExecuteTime": {
     "end_time": "2018-10-17T01:21:58.685121Z",
     "start_time": "2018-10-17T01:21:58.681439Z"
    }
   },
   "source": [
    "# Question 1"
   ]
  },
  {
   "cell_type": "code",
   "execution_count": 1,
   "metadata": {
    "ExecuteTime": {
     "end_time": "2018-10-17T01:26:09.699977Z",
     "start_time": "2018-10-17T01:26:09.694197Z"
    }
   },
   "outputs": [
    {
     "name": "stdout",
     "output_type": "stream",
     "text": [
      "total: 43.9\n"
     ]
    }
   ],
   "source": [
    "import numpy as np \n",
    "\n",
    "P = [2, 6.3, 21, 1]\n",
    "Q = [1,3,1,2]\n",
    "\n",
    "print('total:', np.sum(np.array(P)*np.array(Q)))"
   ]
  },
  {
   "cell_type": "code",
   "execution_count": 5,
   "metadata": {},
   "outputs": [
    {
     "name": "stdout",
     "output_type": "stream",
     "text": [
      "total: 43.9\n"
     ]
    }
   ],
   "source": [
    "temp = []\n",
    "for i in range(len(P)):\n",
    "    temp.append(P[i]*Q[i])\n",
    "print('total:',sum(temp))"
   ]
  },
  {
   "cell_type": "markdown",
   "metadata": {},
   "source": [
    "# Question 2"
   ]
  },
  {
   "cell_type": "code",
   "execution_count": 6,
   "metadata": {
    "ExecuteTime": {
     "end_time": "2018-10-17T01:30:56.196305Z",
     "start_time": "2018-10-17T01:30:56.187451Z"
    }
   },
   "outputs": [
    {
     "name": "stdout",
     "output_type": "stream",
     "text": [
      "try 1 1.0\n",
      "try 2 0.5\n",
      "except 0\n",
      "try 3 0.3333333333333333\n"
     ]
    }
   ],
   "source": [
    "# you need to use a try: except: statement \n",
    "\n",
    "#example\n",
    "files = [1,2,0, 3]\n",
    "\n",
    "for i in files:\n",
    "    try:\n",
    "        #do something\n",
    "        print('try', i, 1/i)\n",
    "    except:\n",
    "        #if corrupted do nothing \n",
    "        print('except', i)\n",
    "        "
   ]
  },
  {
   "cell_type": "markdown",
   "metadata": {
    "ExecuteTime": {
     "end_time": "2018-10-17T01:31:10.312834Z",
     "start_time": "2018-10-17T01:31:10.310215Z"
    }
   },
   "source": [
    "# Question 3"
   ]
  },
  {
   "cell_type": "code",
   "execution_count": 7,
   "metadata": {
    "ExecuteTime": {
     "end_time": "2018-10-17T01:36:40.817171Z",
     "start_time": "2018-10-17T01:36:40.811250Z"
    }
   },
   "outputs": [
    {
     "name": "stdout",
     "output_type": "stream",
     "text": [
      "Raw ['a' 'b']\n",
      "Copy ['a' 'b']\n"
     ]
    }
   ],
   "source": [
    "#you need to copy your array and use the copy for your function input \n",
    "raw_data = np.array(['a', 'b'])\n",
    "\n",
    "copy_data = np.copy(raw_data)\n",
    "\n",
    "print('Raw',raw_data)\n",
    "print('Copy', copy_data)"
   ]
  },
  {
   "cell_type": "code",
   "execution_count": 10,
   "metadata": {},
   "outputs": [
    {
     "name": "stdout",
     "output_type": "stream",
     "text": [
      "[1, 3]\n",
      "[1, 3]\n"
     ]
    }
   ],
   "source": [
    "#Alternatively you could assign a new variable to the input array:\n",
    "def fn1(l):\n",
    "    l=l+[4]\n",
    "m=[1, 3]\n",
    "print (m)\n",
    "fn1(m)\n",
    "print(m)"
   ]
  },
  {
   "cell_type": "markdown",
   "metadata": {},
   "source": [
    "# Question 4"
   ]
  },
  {
   "cell_type": "markdown",
   "metadata": {},
   "source": [
    "### Step over (so):\n",
    "An action to take that will step over a given line (execute it). If the line contains a function the function will be executed and the result returned without debugging each line.\n",
    "\n",
    "### Step into (si):\n",
    "An action to execute one line. If the line does not contain a function it behaves the same as “step over” but if it does the debugger will enter the called function and continue line-by-line debugging there.\n",
    "\n",
    "### Step out (st):\n",
    "An action that returns to the line where the current function was called.\n",
    "\n",
    "## Sequence of debigging operations:\n",
    "so, so, si, so, st "
   ]
  },
  {
   "cell_type": "markdown",
   "metadata": {},
   "source": [
    "# Question 5"
   ]
  },
  {
   "cell_type": "markdown",
   "metadata": {
    "ExecuteTime": {
     "end_time": "2018-10-17T01:41:52.609310Z",
     "start_time": "2018-10-17T01:41:52.598646Z"
    }
   },
   "source": [
    "## A\n",
    "\n",
    "It is a classification algorithm, one of the simplest ones.\n",
    "No assumptions about the underlying data distribution (it is non-parametric).\n",
    "It is useful for instances when there is little or no prior knowledge about the data distribution.\n",
    "\n",
    "\n",
    "## B \n",
    "\n",
    "There is no explicit training phase - training data is directly used to perform classification (lazy)."
   ]
  },
  {
   "cell_type": "markdown",
   "metadata": {},
   "source": [
    "# Question 6"
   ]
  },
  {
   "cell_type": "markdown",
   "metadata": {},
   "source": [
    "### line 14 : result indexed improperly, needs both a row and column\n",
    "index. result[i] -> result[i,j]\n",
    "\n",
    "### line 17: the function needs a return command\n",
    "return m or return result\n",
    "\n",
    "### line 23: second input argument should be 3\n",
    "square_matrix(m,2) -> square_matrix(m,3)"
   ]
  },
  {
   "cell_type": "markdown",
   "metadata": {
    "ExecuteTime": {
     "end_time": "2018-10-17T01:48:20.252549Z",
     "start_time": "2018-10-17T01:48:20.248223Z"
    }
   },
   "source": [
    "# Question 7"
   ]
  },
  {
   "cell_type": "markdown",
   "metadata": {
    "ExecuteTime": {
     "end_time": "2018-10-17T01:51:59.793811Z",
     "start_time": "2018-10-17T01:51:59.790227Z"
    }
   },
   "source": [
    "## the output is :\n",
    "\n",
    "/tmp/midterm/c"
   ]
  },
  {
   "cell_type": "markdown",
   "metadata": {},
   "source": [
    "# Question 8"
   ]
  },
  {
   "cell_type": "markdown",
   "metadata": {
    "ExecuteTime": {
     "end_time": "2018-10-17T01:54:05.030250Z",
     "start_time": "2018-10-17T01:54:05.027273Z"
    }
   },
   "source": [
    "awk '{print FNR\". \"$0}' ./question4.txt\n",
    "awk '{FS=\"\\n\"}{i+=1}{print i \". \" $1 }' ./question4.txt\n"
   ]
  },
  {
   "cell_type": "markdown",
   "metadata": {},
   "source": [
    "# Question 9"
   ]
  },
  {
   "cell_type": "markdown",
   "metadata": {
    "ExecuteTime": {
     "end_time": "2018-10-17T01:55:11.992878Z",
     "start_time": "2018-10-17T01:55:11.989670Z"
    }
   },
   "source": [
    "## A\n",
    "\n",
    "10"
   ]
  },
  {
   "cell_type": "markdown",
   "metadata": {},
   "source": [
    "20"
   ]
  },
  {
   "cell_type": "markdown",
   "metadata": {},
   "source": [
    "## B\n",
    "\n",
    "Hello one"
   ]
  },
  {
   "cell_type": "markdown",
   "metadata": {},
   "source": [
    "Hello two 3"
   ]
  },
  {
   "cell_type": "markdown",
   "metadata": {},
   "source": [
    "Hello four"
   ]
  },
  {
   "cell_type": "code",
   "execution_count": null,
   "metadata": {
    "collapsed": true
   },
   "outputs": [],
   "source": [
    "#add this line for homework 3"
   ]
  }
 ],
 "metadata": {
  "kernelspec": {
   "display_name": "Python 3",
   "language": "python",
   "name": "python3"
  },
  "language_info": {
   "codemirror_mode": {
    "name": "ipython",
    "version": 3
   },
   "file_extension": ".py",
   "mimetype": "text/x-python",
   "name": "python",
   "nbconvert_exporter": "python",
   "pygments_lexer": "ipython3",
   "version": "3.7.0"
  },
  "toc": {
   "nav_menu": {},
   "number_sections": true,
   "sideBar": true,
   "skip_h1_title": false,
   "title_cell": "Table of Contents",
   "title_sidebar": "Contents",
   "toc_cell": false,
   "toc_position": {},
   "toc_section_display": true,
   "toc_window_display": false
  },
  "varInspector": {
   "cols": {
    "lenName": 16,
    "lenType": 16,
    "lenVar": 40
   },
   "kernels_config": {
    "python": {
     "delete_cmd_postfix": "",
     "delete_cmd_prefix": "del ",
     "library": "var_list.py",
     "varRefreshCmd": "print(var_dic_list())"
    },
    "r": {
     "delete_cmd_postfix": ") ",
     "delete_cmd_prefix": "rm(",
     "library": "var_list.r",
     "varRefreshCmd": "cat(var_dic_list()) "
    }
   },
   "types_to_exclude": [
    "module",
    "function",
    "builtin_function_or_method",
    "instance",
    "_Feature"
   ],
   "window_display": false
  }
 },
 "nbformat": 4,
 "nbformat_minor": 2
}
